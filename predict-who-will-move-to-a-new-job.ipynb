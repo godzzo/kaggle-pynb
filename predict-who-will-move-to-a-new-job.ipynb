{
 "cells": [
  {
   "source": [
    "# Predict who will move to a new job\n",
    "\n",
    "Python notebook using data from *HR Analytics: Job Change of Data Scientists* \n",
    "\n",
    "- 3,464 views - **beginner**, regression, python\n",
    "- [Notebook](https://www.kaggle.com/khotijahs1/predict-who-will-move-to-a-new-job)\n",
    "- [Data](https://www.kaggle.com/arashnic/hr-analytics-job-change-of-data-scientists)\n"
   ],
   "cell_type": "markdown",
   "metadata": {}
  },
  {
   "cell_type": "code",
   "execution_count": null,
   "metadata": {
    "_cell_guid": "b1076dfc-b9ad-4769-8c92-a6c4dae69d19",
    "_uuid": "8f2839f25d086af736a60e9eeb907d3b93b6e0e5",
    "execution": {
     "iopub.execute_input": "2020-12-28T10:52:23.769156Z",
     "iopub.status.busy": "2020-12-28T10:52:23.768276Z",
     "iopub.status.idle": "2020-12-28T10:52:24.785029Z",
     "shell.execute_reply": "2020-12-28T10:52:24.784452Z"
    },
    "papermill": {
     "duration": 1.06206,
     "end_time": "2020-12-28T10:52:24.785134",
     "exception": false,
     "start_time": "2020-12-28T10:52:23.723074",
     "status": "completed"
    },
    "tags": []
   },
   "outputs": [],
   "source": [
    "import numpy as np\n",
    "import pylab as pl\n",
    "import pandas as pd\n",
    "import matplotlib.pyplot as plt \n",
    "%matplotlib inline\n",
    "import seaborn as sns\n",
    "from sklearn.utils import shuffle\n",
    "from sklearn.svm import SVC\n",
    "from sklearn.metrics import confusion_matrix,classification_report\n",
    "from sklearn.model_selection import cross_val_score, GridSearchCV\n",
    "# Input data files are available in the \"../input/\" directory.\n",
    "# For example, running this (by clicking run or pressing Shift+Enter) will list the files in the input directory\n",
    "\n",
    "import os\n",
    "print(os.listdir(\"./data\"))\n",
    "\n",
    "# Any results you write to the current directory are saved as output."
   ]
  },
  {
   "cell_type": "markdown",
   "metadata": {
    "papermill": {
     "duration": 0.035029,
     "end_time": "2020-12-28T10:52:24.856292",
     "exception": false,
     "start_time": "2020-12-28T10:52:24.821263",
     "status": "completed"
    },
    "tags": []
   },
   "source": [
    "## Training Data"
   ]
  },
  {
   "cell_type": "code",
   "execution_count": null,
   "metadata": {
    "_cell_guid": "79c7e3d0-c299-4dcb-8224-4455121ee9b0",
    "_uuid": "d629ff2d2480ee46fbb7e2d37f6b5fab8052498a",
    "execution": {
     "iopub.execute_input": "2020-12-28T10:52:24.935657Z",
     "iopub.status.busy": "2020-12-28T10:52:24.935009Z",
     "iopub.status.idle": "2020-12-28T10:52:25.032669Z",
     "shell.execute_reply": "2020-12-28T10:52:25.032029Z"
    },
    "papermill": {
     "duration": 0.141257,
     "end_time": "2020-12-28T10:52:25.032809",
     "exception": false,
     "start_time": "2020-12-28T10:52:24.891552",
     "status": "completed"
    },
    "tags": []
   },
   "outputs": [],
   "source": [
    "train= pd.read_csv('./data/aug_train.csv')\n",
    "train.head()"
   ]
  },
  {
   "cell_type": "markdown",
   "metadata": {
    "papermill": {
     "duration": 0.035436,
     "end_time": "2020-12-28T10:52:25.103979",
     "exception": false,
     "start_time": "2020-12-28T10:52:25.068543",
     "status": "completed"
    },
    "tags": []
   },
   "source": [
    "## Features\n",
    "\n",
    "* enrollee_id : Unique ID for enrollee\n",
    "* city: City code\n",
    "* citydevelopmentindex: Developement index of the city (scaled)\n",
    "* gender: Gender of enrolee\n",
    "* relevent_experience: Relevent experience of enrolee\n",
    "* enrolled_university: Type of University course enrolled if any\n",
    "* education_level: Education level of enrolee\n",
    "* major_discipline :Education major discipline of enrolee\n",
    "* experience: Enrolee total experience in years\n",
    "* company_size: No of employees in current employer's company\n",
    "* company_type : Type of current employer\n",
    "* lastnewjob: Difference in years between previous job and current job\n",
    "* training_hours: training hours completed\n",
    "* target: 0 – Not looking for job change, 1 – Looking for a job change"
   ]
  },
  {
   "cell_type": "markdown",
   "metadata": {
    "papermill": {
     "duration": 0.034878,
     "end_time": "2020-12-28T10:52:25.174121",
     "exception": false,
     "start_time": "2020-12-28T10:52:25.139243",
     "status": "completed"
    },
    "tags": []
   },
   "source": [
    "# Visualization"
   ]
  },
  {
   "cell_type": "markdown",
   "metadata": {
    "papermill": {
     "duration": 0.035296,
     "end_time": "2020-12-28T10:52:25.244746",
     "exception": false,
     "start_time": "2020-12-28T10:52:25.209450",
     "status": "completed"
    },
    "tags": []
   },
   "source": [
    "Here I did compare the features that might influence the move to a new job and get the max, min, and mean of the features\n"
   ]
  },
  {
   "cell_type": "code",
   "execution_count": null,
   "metadata": {
    "_kg_hide-input": true,
    "execution": {
     "iopub.execute_input": "2020-12-28T10:52:25.326868Z",
     "iopub.status.busy": "2020-12-28T10:52:25.326258Z",
     "iopub.status.idle": "2020-12-28T10:52:26.893039Z",
     "shell.execute_reply": "2020-12-28T10:52:26.893554Z"
    },
    "papermill": {
     "duration": 1.613617,
     "end_time": "2020-12-28T10:52:26.893679",
     "exception": false,
     "start_time": "2020-12-28T10:52:25.280062",
     "status": "completed"
    },
    "tags": []
   },
   "outputs": [],
   "source": [
    "display(train[['city','city_development_index','relevent_experience','gender','education_level','major_discipline','experience','company_size','company_type','target']].groupby(['gender','education_level','experience','company_size']).agg([\"max\",'mean',\"min\"]).style.background_gradient(cmap=\"Oranges\"))\n"
   ]
  },
  {
   "cell_type": "markdown",
   "metadata": {
    "papermill": {
     "duration": 0.07598,
     "end_time": "2020-12-28T10:52:27.044137",
     "exception": false,
     "start_time": "2020-12-28T10:52:26.968157",
     "status": "completed"
    },
    "tags": []
   },
   "source": [
    "# Bar plots \n",
    "\n",
    "showing the frequency of each category separated by label"
   ]
  },
  {
   "cell_type": "code",
   "execution_count": null,
   "metadata": {
    "_kg_hide-input": true,
    "execution": {
     "iopub.execute_input": "2020-12-28T10:52:27.203959Z",
     "iopub.status.busy": "2020-12-28T10:52:27.203289Z",
     "iopub.status.idle": "2020-12-28T10:52:36.073242Z",
     "shell.execute_reply": "2020-12-28T10:52:36.073775Z"
    },
    "papermill": {
     "duration": 8.954256,
     "end_time": "2020-12-28T10:52:36.073957",
     "exception": false,
     "start_time": "2020-12-28T10:52:27.119701",
     "status": "completed"
    },
    "tags": []
   },
   "outputs": [],
   "source": [
    "#barplots showing the frequency of each category separated by label\n",
    "plt.figure(figsize=[15,17])\n",
    "fft=[\"relevent_experience\", \"education_level\",\"major_discipline\", \"experience\",\"company_size\",\"company_type\", \"training_hours\",\"target\"]\n",
    "n=1\n",
    "for f in fft:\n",
    "    plt.subplot(4,2,n)\n",
    "    sns.countplot(x=f, hue='education_level', edgecolor=\"black\", alpha=0.7, data=train)\n",
    "    sns.despine()\n",
    "    plt.title(\"Countplot of {}  by education_level\".format(f))\n",
    "    n=n+1\n",
    "plt.tight_layout()\n",
    "plt.show()\n",
    "\n",
    "\n",
    "    \n",
    "plt.figure(figsize=[15,4])\n",
    "sns.countplot(x='experience', hue='education_level',edgecolor=\"black\", alpha=0.7, data=train)\n",
    "sns.despine()\n",
    "plt.title(\"Countplot of experience by education_level\")\n",
    "plt.show()"
   ]
  },
  {
   "cell_type": "markdown",
   "metadata": {
    "papermill": {
     "duration": 0.075749,
     "end_time": "2020-12-28T10:52:36.228516",
     "exception": false,
     "start_time": "2020-12-28T10:52:36.152767",
     "status": "completed"
    },
    "tags": []
   },
   "source": [
    "# Target\n",
    "\n",
    "* 0 – Not looking for job change, \n",
    "* 1 – Looking for a job change\n",
    "\n",
    "As you can see, here we have imbalanced data, the number of 1 ( Looking for a job change) **<** 0 (Not looking for job change)"
   ]
  },
  {
   "cell_type": "code",
   "execution_count": null,
   "metadata": {
    "_kg_hide-input": true,
    "execution": {
     "iopub.execute_input": "2020-12-28T10:52:36.383110Z",
     "iopub.status.busy": "2020-12-28T10:52:36.382499Z",
     "iopub.status.idle": "2020-12-28T10:52:36.497208Z",
     "shell.execute_reply": "2020-12-28T10:52:36.497787Z"
    },
    "papermill": {
     "duration": 0.19444,
     "end_time": "2020-12-28T10:52:36.497920",
     "exception": false,
     "start_time": "2020-12-28T10:52:36.303480",
     "status": "completed"
    },
    "tags": []
   },
   "outputs": [],
   "source": [
    "mnj = train['target'].value_counts()  \n",
    "plt.figure(figsize=(6,4))\n",
    "sns.barplot(mnj.index, mnj.values, alpha=0.8)\n",
    "plt.ylabel('Number of Data', fontsize=12)\n",
    "plt.xlabel('target', fontsize=9)\n",
    "plt.xticks(rotation=90)\n",
    "plt.show();"
   ]
  },
  {
   "cell_type": "markdown",
   "metadata": {
    "papermill": {
     "duration": 0.075939,
     "end_time": "2020-12-28T10:52:36.650782",
     "exception": false,
     "start_time": "2020-12-28T10:52:36.574843",
     "status": "completed"
    },
    "tags": []
   },
   "source": [
    "# Education Level\n",
    "\n",
    "This dataset contains 5 education level:\n",
    "* Graduate\n",
    "* Masters\n",
    "* High School\n",
    "* PhD\n",
    "* Primary School\n"
   ]
  },
  {
   "cell_type": "code",
   "execution_count": null,
   "metadata": {
    "_kg_hide-input": true,
    "execution": {
     "iopub.execute_input": "2020-12-28T10:52:36.812092Z",
     "iopub.status.busy": "2020-12-28T10:52:36.811486Z",
     "iopub.status.idle": "2020-12-28T10:52:36.951835Z",
     "shell.execute_reply": "2020-12-28T10:52:36.952309Z"
    },
    "papermill": {
     "duration": 0.220634,
     "end_time": "2020-12-28T10:52:36.952476",
     "exception": false,
     "start_time": "2020-12-28T10:52:36.731842",
     "status": "completed"
    },
    "tags": []
   },
   "outputs": [],
   "source": [
    "EL = train['education_level'].value_counts()  \n",
    "plt.figure(figsize=(6,4))\n",
    "sns.barplot(EL.index, EL.values, alpha=0.8)\n",
    "plt.ylabel('Number of Data', fontsize=12)\n",
    "plt.xlabel('education_level', fontsize=9)\n",
    "plt.xticks(rotation=90)\n",
    "plt.show();"
   ]
  },
  {
   "cell_type": "code",
   "execution_count": null,
   "metadata": {
    "_kg_hide-input": true,
    "execution": {
     "iopub.execute_input": "2020-12-28T10:52:37.120078Z",
     "iopub.status.busy": "2020-12-28T10:52:37.119462Z",
     "iopub.status.idle": "2020-12-28T10:52:39.279712Z",
     "shell.execute_reply": "2020-12-28T10:52:39.279179Z"
    },
    "papermill": {
     "duration": 2.247404,
     "end_time": "2020-12-28T10:52:39.279853",
     "exception": false,
     "start_time": "2020-12-28T10:52:37.032449",
     "status": "completed"
    },
    "tags": []
   },
   "outputs": [],
   "source": [
    "import plotly.express as px\n",
    "from plotly.subplots import make_subplots\n",
    "import plotly.graph_objs as go\n",
    "\n",
    "el = train['education_level'].value_counts().reset_index()\n",
    "el.columns = [\n",
    "    'education_level', \n",
    "    'percent'\n",
    "]\n",
    "el['percent'] /= len(train)\n",
    "\n",
    "fig = px.pie(\n",
    "    el, \n",
    "    names='education_level', \n",
    "    values='percent', \n",
    "    title='Education_level', \n",
    "    width=800,\n",
    "    height=500 \n",
    ")\n",
    "\n",
    "fig.show()"
   ]
  },
  {
   "cell_type": "markdown",
   "metadata": {
    "papermill": {
     "duration": 0.081451,
     "end_time": "2020-12-28T10:52:39.443040",
     "exception": false,
     "start_time": "2020-12-28T10:52:39.361589",
     "status": "completed"
    },
    "tags": []
   },
   "source": [
    "# education_level:training_hours"
   ]
  },
  {
   "cell_type": "code",
   "execution_count": null,
   "metadata": {
    "_kg_hide-input": true,
    "execution": {
     "iopub.execute_input": "2020-12-28T10:52:39.611724Z",
     "iopub.status.busy": "2020-12-28T10:52:39.611104Z",
     "iopub.status.idle": "2020-12-28T10:52:39.997006Z",
     "shell.execute_reply": "2020-12-28T10:52:39.996487Z"
    },
    "papermill": {
     "duration": 0.473617,
     "end_time": "2020-12-28T10:52:39.997109",
     "exception": false,
     "start_time": "2020-12-28T10:52:39.523492",
     "status": "completed"
    },
    "tags": []
   },
   "outputs": [],
   "source": [
    "et = train.sort_values(by='training_hours', ascending=True)[:7000]\n",
    "figure = plt.figure(figsize=(10,6))\n",
    "sns.barplot(y=et.education_level, x=et.training_hours)\n",
    "plt.xticks()\n",
    "plt.xlabel('training_hours')\n",
    "plt.ylabel('education_level')\n",
    "plt.title('education_level:training_hours ')\n",
    "plt.show()"
   ]
  },
  {
   "cell_type": "markdown",
   "metadata": {
    "papermill": {
     "duration": 0.079128,
     "end_time": "2020-12-28T10:52:40.155693",
     "exception": false,
     "start_time": "2020-12-28T10:52:40.076565",
     "status": "completed"
    },
    "tags": []
   },
   "source": [
    "# City development index\n",
    "\n",
    "The City Development Index was developed for the Second United Nations Conference on Human Settlements (Habitat II) in 1996 and measures the level of development in cities. The Urban Indicators Programme of the United Nations Human Settlements Programme (UN-Habitat) developed the indicator so that they could rank cities of the world according to their level of development and as a display of indicators depicting development. The CDI cuts across the different clusters identified in the Urban Indicator Framework as it is based on five sub indices namely, infrastructure, waste, health, education and city product. It is useful as it provides a snap-shot view of how cities are doing with respect to the different indices. It was invented by Dr Joe Flood, first Coordinator of the Urban Indicators Program, following a statistical analysis of city indicators data. Reference :https://en.wikipedia.org/wiki/City_development_index\n",
    "\n",
    "\n",
    "## Calculating the CDI\n",
    "\n",
    "\n",
    "\n",
    "<img src=\"https://www.researchgate.net/profile/Lubna_Hasan/publication/24115086/figure/tbl4/AS:668624478019607@1536423906970/Calculation-of-CDI-by-UN-HABITAT-GUIP-Index-Formula.png\" width=\"600\">"
   ]
  },
  {
   "cell_type": "markdown",
   "metadata": {
    "papermill": {
     "duration": 0.079971,
     "end_time": "2020-12-28T10:52:40.315517",
     "exception": false,
     "start_time": "2020-12-28T10:52:40.235546",
     "status": "completed"
    },
    "tags": []
   },
   "source": [
    "## Count: City development index"
   ]
  },
  {
   "cell_type": "code",
   "execution_count": null,
   "metadata": {
    "_kg_hide-input": true,
    "execution": {
     "iopub.execute_input": "2020-12-28T10:52:40.486586Z",
     "iopub.status.busy": "2020-12-28T10:52:40.485920Z",
     "iopub.status.idle": "2020-12-28T10:52:40.658331Z",
     "shell.execute_reply": "2020-12-28T10:52:40.657518Z"
    },
    "papermill": {
     "duration": 0.261736,
     "end_time": "2020-12-28T10:52:40.658443",
     "exception": false,
     "start_time": "2020-12-28T10:52:40.396707",
     "status": "completed"
    },
    "tags": []
   },
   "outputs": [],
   "source": [
    "import plotly.express as px\n",
    "from plotly.subplots import make_subplots\n",
    "import plotly.graph_objs as go\n",
    "\n",
    "cd = train['city_development_index'].value_counts().reset_index()\n",
    "cd.columns = [\n",
    "    'city_development_index', \n",
    "    'count'\n",
    "]\n",
    "cd['city_development_index'] = cd['city_development_index'].astype(str) + '-'\n",
    "cd = cd.sort_values(['count']).tail(50)\n",
    "\n",
    "fig = px.bar(\n",
    "    cd, \n",
    "    x='count', \n",
    "    y='city_development_index', \n",
    "    orientation='h', \n",
    "    title='Count: City development index', \n",
    "    width=1000,\n",
    "    height=900 \n",
    ")\n",
    "\n",
    "fig.show()"
   ]
  },
  {
   "cell_type": "markdown",
   "metadata": {
    "papermill": {
     "duration": 0.081458,
     "end_time": "2020-12-28T10:52:40.820051",
     "exception": false,
     "start_time": "2020-12-28T10:52:40.738593",
     "status": "completed"
    },
    "tags": []
   },
   "source": [
    "# City by city development index"
   ]
  },
  {
   "cell_type": "code",
   "execution_count": null,
   "metadata": {
    "_kg_hide-input": true,
    "execution": {
     "iopub.execute_input": "2020-12-28T10:52:40.985143Z",
     "iopub.status.busy": "2020-12-28T10:52:40.984507Z",
     "iopub.status.idle": "2020-12-28T10:52:41.671364Z",
     "shell.execute_reply": "2020-12-28T10:52:41.671897Z"
    },
    "papermill": {
     "duration": 0.772991,
     "end_time": "2020-12-28T10:52:41.672058",
     "exception": false,
     "start_time": "2020-12-28T10:52:40.899067",
     "status": "completed"
    },
    "tags": []
   },
   "outputs": [],
   "source": [
    "cdi = train.sort_values(by='city_development_index', ascending=True)[:2000]\n",
    "figure = plt.figure(figsize=(10,6))\n",
    "sns.barplot(y=cdi.city, x=cdi.city_development_index)\n",
    "plt.xticks()\n",
    "plt.xlabel('city_development_index')\n",
    "plt.ylabel('city')\n",
    "plt.title('City by city development index')\n",
    "plt.show()"
   ]
  },
  {
   "cell_type": "code",
   "execution_count": null,
   "metadata": {
    "_kg_hide-input": true,
    "execution": {
     "iopub.execute_input": "2020-12-28T10:52:41.864945Z",
     "iopub.status.busy": "2020-12-28T10:52:41.860265Z",
     "iopub.status.idle": "2020-12-28T10:52:42.083971Z",
     "shell.execute_reply": "2020-12-28T10:52:42.084633Z"
    },
    "papermill": {
     "duration": 0.327296,
     "end_time": "2020-12-28T10:52:42.084796",
     "exception": false,
     "start_time": "2020-12-28T10:52:41.757500",
     "status": "completed"
    },
    "tags": []
   },
   "outputs": [],
   "source": [
    "f, axes = plt.subplots(1,1, figsize = (16, 5))\n",
    "g1 = sns.distplot(train[\"city_development_index\"], color=\"red\",ax = axes)\n",
    "plt.title(\"Distributional of city_development_index\")"
   ]
  },
  {
   "cell_type": "markdown",
   "metadata": {
    "papermill": {
     "duration": 0.082011,
     "end_time": "2020-12-28T10:52:42.250513",
     "exception": false,
     "start_time": "2020-12-28T10:52:42.168502",
     "status": "completed"
    },
    "tags": []
   },
   "source": [
    "# Experience\n",
    "\n",
    "Enrolee total experience in years"
   ]
  },
  {
   "cell_type": "code",
   "execution_count": null,
   "metadata": {
    "_kg_hide-input": true,
    "execution": {
     "iopub.execute_input": "2020-12-28T10:52:42.475764Z",
     "iopub.status.busy": "2020-12-28T10:52:42.464288Z",
     "iopub.status.idle": "2020-12-28T10:52:42.480478Z",
     "shell.execute_reply": "2020-12-28T10:52:42.479877Z"
    },
    "papermill": {
     "duration": 0.146541,
     "end_time": "2020-12-28T10:52:42.480584",
     "exception": false,
     "start_time": "2020-12-28T10:52:42.334043",
     "status": "completed"
    },
    "tags": []
   },
   "outputs": [],
   "source": [
    "import plotly.express as px\n",
    "from plotly.subplots import make_subplots\n",
    "import plotly.graph_objs as go\n",
    "\n",
    "ep = train['experience'].value_counts().reset_index()\n",
    "ep.columns = [\n",
    "    'experience', \n",
    "    'percent'\n",
    "]\n",
    "ep['percent'] /= len(train)\n",
    "\n",
    "fig = px.pie(\n",
    "    ep, \n",
    "    names='experience', \n",
    "    values='percent', \n",
    "    title='Experience', \n",
    "    width=800,\n",
    "    height=500 \n",
    ")\n",
    "\n",
    "fig.show()"
   ]
  },
  {
   "cell_type": "markdown",
   "metadata": {
    "papermill": {
     "duration": 0.082414,
     "end_time": "2020-12-28T10:52:42.648819",
     "exception": false,
     "start_time": "2020-12-28T10:52:42.566405",
     "status": "completed"
    },
    "tags": []
   },
   "source": [
    "# Taining_hours"
   ]
  },
  {
   "cell_type": "code",
   "execution_count": null,
   "metadata": {
    "_kg_hide-input": true,
    "execution": {
     "iopub.execute_input": "2020-12-28T10:52:42.830890Z",
     "iopub.status.busy": "2020-12-28T10:52:42.828181Z",
     "iopub.status.idle": "2020-12-28T10:52:43.072940Z",
     "shell.execute_reply": "2020-12-28T10:52:43.072375Z"
    },
    "papermill": {
     "duration": 0.341382,
     "end_time": "2020-12-28T10:52:43.073052",
     "exception": false,
     "start_time": "2020-12-28T10:52:42.731670",
     "status": "completed"
    },
    "tags": []
   },
   "outputs": [],
   "source": [
    "f, axes = plt.subplots(1,1, figsize = (16, 5))\n",
    "g1 = sns.distplot(train[\"training_hours\"], color=\"blue\",ax = axes)\n",
    "plt.title(\"Distributional of training_hours\")"
   ]
  },
  {
   "cell_type": "markdown",
   "metadata": {
    "papermill": {
     "duration": 0.084456,
     "end_time": "2020-12-28T10:52:43.243328",
     "exception": false,
     "start_time": "2020-12-28T10:52:43.158872",
     "status": "completed"
    },
    "tags": []
   },
   "source": [
    "## Okay, let's check features that might influence"
   ]
  },
  {
   "cell_type": "code",
   "execution_count": null,
   "metadata": {
    "execution": {
     "iopub.execute_input": "2020-12-28T10:52:43.422121Z",
     "iopub.status.busy": "2020-12-28T10:52:43.421173Z",
     "iopub.status.idle": "2020-12-28T10:52:43.424599Z",
     "shell.execute_reply": "2020-12-28T10:52:43.423988Z"
    },
    "papermill": {
     "duration": 0.095125,
     "end_time": "2020-12-28T10:52:43.424733",
     "exception": false,
     "start_time": "2020-12-28T10:52:43.329608",
     "status": "completed"
    },
    "tags": []
   },
   "outputs": [],
   "source": [
    "def wmnj(x):\n",
    "    y = train[[\"enrollee_id\",\"city\",\"city_development_index\",\"gender\",\"relevent_experience\",\"enrolled_university\",\"education_level\",\"major_discipline\",\"experience\",\"company_size\",\"company_type\",\"last_new_job\",\"training_hours\",\"target\"]][train[\"education_level\"] == x]\n",
    "    y = y.sort_values(by=\"enrollee_id\",ascending=False)\n",
    "    return y.head(15)"
   ]
  },
  {
   "cell_type": "markdown",
   "metadata": {
    "papermill": {
     "duration": 0.087486,
     "end_time": "2020-12-28T10:52:43.600188",
     "exception": false,
     "start_time": "2020-12-28T10:52:43.512702",
     "status": "completed"
    },
    "tags": []
   },
   "source": [
    "# Graduate"
   ]
  },
  {
   "cell_type": "markdown",
   "metadata": {
    "papermill": {
     "duration": 0.086101,
     "end_time": "2020-12-28T10:52:43.771069",
     "exception": false,
     "start_time": "2020-12-28T10:52:43.684968",
     "status": "completed"
    },
    "tags": []
   },
   "source": [
    "Start from graduate, here I found :\n",
    "* If **city_103** --> city_development_index: **0.920** --> the gender is male --> has relevent experience and experience **> 20** -->  move to new job (1)\n",
    "* If **city_21** --> city_development_index: **0.624** --> the gender is male --> has relevent experience and experience **4** -->  move to new job (1)\n",
    "* If **city_19** --> city_development_index: **0.682** --> the gender is male --> has relevent experience and  experience **6** -->  move to new job (1)"
   ]
  },
  {
   "cell_type": "code",
   "execution_count": null,
   "metadata": {
    "execution": {
     "iopub.execute_input": "2020-12-28T10:52:43.946883Z",
     "iopub.status.busy": "2020-12-28T10:52:43.945836Z",
     "iopub.status.idle": "2020-12-28T10:52:43.977991Z",
     "shell.execute_reply": "2020-12-28T10:52:43.978412Z"
    },
    "papermill": {
     "duration": 0.121707,
     "end_time": "2020-12-28T10:52:43.978538",
     "exception": false,
     "start_time": "2020-12-28T10:52:43.856831",
     "status": "completed"
    },
    "tags": []
   },
   "outputs": [],
   "source": [
    "wmnj(\"Graduate\")"
   ]
  },
  {
   "cell_type": "markdown",
   "metadata": {
    "papermill": {
     "duration": 0.086649,
     "end_time": "2020-12-28T10:52:44.153090",
     "exception": false,
     "start_time": "2020-12-28T10:52:44.066441",
     "status": "completed"
    },
    "tags": []
   },
   "source": [
    "# Masters\n",
    "\n",
    "Here I found :\n",
    "* If **city_136** --> city_development_index: **0.897** --> the gender is male --> has relevent experience and experience **6** -->  move to new job (1)\n",
    "\n",
    "* If **city_103** --> city_development_index: **0.920** --> the gender is male --> has relevent experience and experience **17** --> move to new job (1)\n",
    "\n",
    "* If **city_159**\t --> city_development_index: **0.843** --> the gender is male --> has relevent experience and experience **7** --> move to new job (1)\n",
    "\n",
    "* If **city_50**\t --> city_development_index: **0.896** --> the gender is male --> has relevent experience and experience **10** --> move to new job (1)\n",
    "\n",
    "* If **city_106** --> city_development_index: **0.698** --> the gender is male --> has relevent experience and experience **8** --> move to new job (1)\n",
    "\n",
    "* If **city_21**\t --> city_development_index: **0.624** --> the gender is male --> has relevent experience and experience **14** --> move to new job (1)\n",
    "\n",
    "The last one is different from other\n",
    "* **city_21** --> city_development_index: **0.624** --> the gender is male --> **No relevent experience** and experience **2** --> move to new job (1)"
   ]
  },
  {
   "cell_type": "code",
   "execution_count": null,
   "metadata": {
    "execution": {
     "iopub.execute_input": "2020-12-28T10:52:44.333344Z",
     "iopub.status.busy": "2020-12-28T10:52:44.332424Z",
     "iopub.status.idle": "2020-12-28T10:52:44.361563Z",
     "shell.execute_reply": "2020-12-28T10:52:44.362068Z"
    },
    "papermill": {
     "duration": 0.12192,
     "end_time": "2020-12-28T10:52:44.362213",
     "exception": false,
     "start_time": "2020-12-28T10:52:44.240293",
     "status": "completed"
    },
    "tags": []
   },
   "outputs": [],
   "source": [
    "wmnj(\"Masters\")"
   ]
  },
  {
   "cell_type": "markdown",
   "metadata": {
    "papermill": {
     "duration": 0.088878,
     "end_time": "2020-12-28T10:52:44.541034",
     "exception": false,
     "start_time": "2020-12-28T10:52:44.452156",
     "status": "completed"
    },
    "tags": []
   },
   "source": [
    "# High School\n",
    "\n",
    "Here I found :\n",
    "* If **city_99** --> city_development_index: **0.915** --> the gender is male --> has relevent experience and experience **14** -->  move to new job (1)\n",
    "\n",
    "* If **city_100** --> city_development_index: **0.887** --> the gender is male --> has relevent experience and experience **>20** --> move to new job (1)\n",
    "\n",
    "* If **city_160**\t --> city_development_index: **0.920**\t --> the gender is male --> has relevent experience and experience **9** --> move to new job (1)\n",
    "\n",
    "* If **city_73**\t --> city_development_index: **0.754** --> the gender is male --> has relevent experience and experience **3** --> move to new job (1)\n",
    "\n",
    "* If **city_21**\t --> city_development_index: **0.624** --> the gender is male --> has relevent experience and experience **4** --> move to new job (1)\n",
    "\n"
   ]
  },
  {
   "cell_type": "code",
   "execution_count": null,
   "metadata": {
    "execution": {
     "iopub.execute_input": "2020-12-28T10:52:44.724088Z",
     "iopub.status.busy": "2020-12-28T10:52:44.719901Z",
     "iopub.status.idle": "2020-12-28T10:52:44.747534Z",
     "shell.execute_reply": "2020-12-28T10:52:44.747973Z"
    },
    "papermill": {
     "duration": 0.120219,
     "end_time": "2020-12-28T10:52:44.748100",
     "exception": false,
     "start_time": "2020-12-28T10:52:44.627881",
     "status": "completed"
    },
    "tags": []
   },
   "outputs": [],
   "source": [
    "wmnj(\"High School\")"
   ]
  },
  {
   "cell_type": "markdown",
   "metadata": {
    "papermill": {
     "duration": 0.088087,
     "end_time": "2020-12-28T10:52:44.924637",
     "exception": false,
     "start_time": "2020-12-28T10:52:44.836550",
     "status": "completed"
    },
    "tags": []
   },
   "source": [
    "# PhD\n",
    "\n",
    "Here I found :\n",
    "\n",
    "* If **city_42** --> city_development_index: **0.563** --> the gender is male --> has relevent experience and experience **< 1** --> move to new job (1)\n",
    "\n",
    "* If **city_103**\t --> city_development_index:** 0.920** --> the gender is male --> **No relevent experience** and experience **> 20** --> move to new job (1)\n",
    "\n",
    "* If **city_16**\t --> city_development_index: **0.910** --> the gender is female --> has relevent experience and experience **9** --> move to new job (1)"
   ]
  },
  {
   "cell_type": "code",
   "execution_count": null,
   "metadata": {
    "execution": {
     "iopub.execute_input": "2020-12-28T10:52:45.111464Z",
     "iopub.status.busy": "2020-12-28T10:52:45.110467Z",
     "iopub.status.idle": "2020-12-28T10:52:45.139997Z",
     "shell.execute_reply": "2020-12-28T10:52:45.140513Z"
    },
    "papermill": {
     "duration": 0.127472,
     "end_time": "2020-12-28T10:52:45.140646",
     "exception": false,
     "start_time": "2020-12-28T10:52:45.013174",
     "status": "completed"
    },
    "tags": []
   },
   "outputs": [],
   "source": [
    "wmnj(\"Phd\")"
   ]
  },
  {
   "cell_type": "markdown",
   "metadata": {
    "papermill": {
     "duration": 0.094024,
     "end_time": "2020-12-28T10:52:45.329087",
     "exception": false,
     "start_time": "2020-12-28T10:52:45.235063",
     "status": "completed"
    },
    "tags": []
   },
   "source": [
    "# Primary School\n",
    "\n",
    "\n",
    "Here I found :\n",
    "\n",
    "* If **city_70** --> city_development_index:** 0.698** --> the gender is male --> **No relevent experience** and experience **< 1** --> move to new job (1)\n",
    "\n",
    "* If **city_103**\t --> city_development_index: **0.920** --> the gender is other --> **No relevent experience** and experience **3** --> move to new job (1)\n",
    "\n",
    "* If **city_103**\t --> city_development_index: **0.920** --> the gender is female --> **No relevent experience** and experience **2** --> move to new job (1)\n",
    "\n",
    "* If **city_126**\t --> city_development_index: **0.479** --> the gender is female --> Has relevent experience and experience **19** --> move to new job (1)"
   ]
  },
  {
   "cell_type": "code",
   "execution_count": null,
   "metadata": {
    "execution": {
     "iopub.execute_input": "2020-12-28T10:52:45.519270Z",
     "iopub.status.busy": "2020-12-28T10:52:45.518732Z",
     "iopub.status.idle": "2020-12-28T10:52:45.548414Z",
     "shell.execute_reply": "2020-12-28T10:52:45.547925Z"
    },
    "papermill": {
     "duration": 0.126127,
     "end_time": "2020-12-28T10:52:45.548531",
     "exception": false,
     "start_time": "2020-12-28T10:52:45.422404",
     "status": "completed"
    },
    "tags": []
   },
   "outputs": [],
   "source": [
    "wmnj(\"Primary School\")"
   ]
  },
  {
   "cell_type": "markdown",
   "metadata": {
    "papermill": {
     "duration": 0.094188,
     "end_time": "2020-12-28T10:52:45.734457",
     "exception": false,
     "start_time": "2020-12-28T10:52:45.640269",
     "status": "completed"
    },
    "tags": []
   },
   "source": [
    "# Correlation in Data"
   ]
  },
  {
   "cell_type": "markdown",
   "metadata": {
    "papermill": {
     "duration": 0.09748,
     "end_time": "2020-12-28T10:52:45.927040",
     "exception": false,
     "start_time": "2020-12-28T10:52:45.829560",
     "status": "completed"
    },
    "tags": []
   },
   "source": [
    "\n",
    "\n",
    "Here I try to measure correlation in data using Correlation coefficients.\n",
    "\n",
    "Correlation coefficientsare used to measure how strong a relationship is between two variables.Correlation coefficient formulas are used to find how strong a relationship is between data. The formulas return a value between -1 and 1, where:\n",
    " \n",
    "* 1 indicates a strong positive relationship.\n",
    "* -1 indicates a strong negative relationship.\n",
    "* A result of zero indicates no relationship at all.\n",
    "\n",
    "![https://www.statisticshowto.com/wp-content/uploads/2012/10/pearson-2-small.png](https://www.statisticshowto.com/wp-content/uploads/2012/10/pearson-2-small.png)\n",
    "\n",
    "reference : https://www.statisticshowto.com/probability-and-statistics/correlation-coefficient-formula/#Pearson"
   ]
  },
  {
   "cell_type": "code",
   "execution_count": null,
   "metadata": {
    "_kg_hide-input": true,
    "execution": {
     "iopub.execute_input": "2020-12-28T10:52:46.114521Z",
     "iopub.status.busy": "2020-12-28T10:52:46.113883Z",
     "iopub.status.idle": "2020-12-28T10:52:46.123092Z",
     "shell.execute_reply": "2020-12-28T10:52:46.123500Z"
    },
    "papermill": {
     "duration": 0.105078,
     "end_time": "2020-12-28T10:52:46.123628",
     "exception": false,
     "start_time": "2020-12-28T10:52:46.018550",
     "status": "completed"
    },
    "tags": []
   },
   "outputs": [],
   "source": [
    "corr=train.corr()[\"target\"]\n",
    "corr[np.argsort(corr, axis=0)[:-1]]\n"
   ]
  },
  {
   "cell_type": "markdown",
   "metadata": {
    "papermill": {
     "duration": 0.089482,
     "end_time": "2020-12-28T10:52:46.303598",
     "exception": false,
     "start_time": "2020-12-28T10:52:46.214116",
     "status": "completed"
    },
    "tags": []
   },
   "source": [
    "# Plotting correlations\n",
    "\n"
   ]
  },
  {
   "cell_type": "code",
   "execution_count": null,
   "metadata": {
    "_kg_hide-input": true,
    "execution": {
     "iopub.execute_input": "2020-12-28T10:52:46.500930Z",
     "iopub.status.busy": "2020-12-28T10:52:46.500259Z",
     "iopub.status.idle": "2020-12-28T10:52:46.655369Z",
     "shell.execute_reply": "2020-12-28T10:52:46.655964Z"
    },
    "papermill": {
     "duration": 0.2616,
     "end_time": "2020-12-28T10:52:46.656109",
     "exception": false,
     "start_time": "2020-12-28T10:52:46.394509",
     "status": "completed"
    },
    "tags": []
   },
   "outputs": [],
   "source": [
    "#plotting correlations\n",
    "num_feat=train.columns[train.dtypes!=object]\n",
    "num_feat=num_feat [:-1]\n",
    "labels = []\n",
    "values = []\n",
    "for col in num_feat:\n",
    "    labels.append(col)\n",
    "    values.append(np.corrcoef(train[col].values, train.target.values)[0,1])\n",
    "    \n",
    "ind = np.arange(len(labels))\n",
    "width = 0.9\n",
    "fig, ax = plt.subplots(figsize=(8,15))\n",
    "rects = ax.barh(ind, np.array(values), color='skyblue')\n",
    "ax.set_yticks(ind+((width)/2.))\n",
    "ax.set_yticklabels(labels, rotation='horizontal')\n",
    "ax.set_xlabel(\"Correlation coefficient\")\n",
    "ax.set_title(\"Correlation Coefficients each feature with target\");"
   ]
  },
  {
   "cell_type": "markdown",
   "metadata": {
    "papermill": {
     "duration": 0.252307,
     "end_time": "2020-12-28T10:52:47.009463",
     "exception": false,
     "start_time": "2020-12-28T10:52:46.757156",
     "status": "completed"
    },
    "tags": []
   },
   "source": [
    "# Prepocessing \n",
    "\n",
    "\n",
    "Here I creating a function that converts all values of gender and etc below into numbers (category)\n",
    "* ['gender'], ['relevent_experience'] , ['enrolled_university'],\n",
    "* ['education_level'], ['major_discipline'], ['experience'], ['company_type'], ['company_size']\n",
    "* ['last_new_job'], ['city'] "
   ]
  },
  {
   "cell_type": "code",
   "execution_count": null,
   "metadata": {
    "_kg_hide-input": true,
    "execution": {
     "iopub.execute_input": "2020-12-28T10:52:47.208002Z",
     "iopub.status.busy": "2020-12-28T10:52:47.206872Z",
     "iopub.status.idle": "2020-12-28T10:52:47.262193Z",
     "shell.execute_reply": "2020-12-28T10:52:47.262634Z"
    },
    "papermill": {
     "duration": 0.155476,
     "end_time": "2020-12-28T10:52:47.262796",
     "exception": false,
     "start_time": "2020-12-28T10:52:47.107320",
     "status": "completed"
    },
    "tags": []
   },
   "outputs": [],
   "source": [
    "# Creating a function that converts all values of , ['gender'], ['relevent_experience'] , ['enrolled_university'],\n",
    "# , ['education_level'], ['major_discipline'], ['experience'], ['company_type'],  ['company_size']\n",
    "# , ['last_new_job'], ['city'] into numbers\n",
    "\n",
    "def gender_to_numeric(x):\n",
    "    if x=='Female': return 2\n",
    "    if x=='Male':   return 1\n",
    "    if x=='Other':   return 0\n",
    "    \n",
    "def rel_experience(x):\n",
    "    if x=='Has relevent experience': return 1\n",
    "    if x=='No relevent experience':   return 0\n",
    "    \n",
    "def enrollment(x):\n",
    "    if x=='no_enrollment'   : return 0\n",
    "    if x=='Full time course':   return 1 \n",
    "    if x=='Part time course':   return 2 \n",
    "    \n",
    "def edu_level(x):\n",
    "    if x=='Graduate'       :   return 0\n",
    "    if x=='Masters'        :   return 1 \n",
    "    if x=='High School'    :   return 2 \n",
    "    if x=='Phd'            :   return 3 \n",
    "    if x=='Primary School' :   return 4 \n",
    "    \n",
    "def major(x):\n",
    "    if x=='STEM'                   :   return 0\n",
    "    if x=='Business Degree'        :   return 1 \n",
    "    if x=='Arts'                   :   return 2 \n",
    "    if x=='Humanities'             :   return 3 \n",
    "    if x=='No Major'               :   return 4 \n",
    "    if x=='Other'                  :   return 5 \n",
    "    \n",
    "def experience(x):\n",
    "    if x=='<1'      :   return 0\n",
    "    if x=='1'       :   return 1 \n",
    "    if x=='2'       :   return 2 \n",
    "    if x=='3'       :   return 3 \n",
    "    if x=='4'       :   return 4 \n",
    "    if x=='5'       :   return 5\n",
    "    if x=='6'       :   return 6\n",
    "    if x=='7'       :   return 7\n",
    "    if x=='8'       :   return 8 \n",
    "    if x=='9'       :   return 9 \n",
    "    if x=='10'      :   return 10 \n",
    "    if x=='11'      :   return 11\n",
    "    if x=='12'      :   return 12\n",
    "    if x=='13'      :   return 13 \n",
    "    if x=='14'      :   return 14 \n",
    "    if x=='15'      :   return 15 \n",
    "    if x=='16'      :   return 16\n",
    "    if x=='17'      :   return 17\n",
    "    if x=='18'      :   return 18\n",
    "    if x=='19'      :   return 19 \n",
    "    if x=='20'      :   return 20 \n",
    "    if x=='>20'     :   return 21 \n",
    "    \n",
    "def company_t(x):\n",
    "    if x=='Pvt Ltd'               :   return 0\n",
    "    if x=='Funded Startup'        :   return 1 \n",
    "    if x=='Early Stage Startup'   :   return 2 \n",
    "    if x=='Other'                 :   return 3 \n",
    "    if x=='Public Sector'         :   return 4 \n",
    "    if x=='NGO'                   :   return 5 \n",
    "    \n",
    "def company_s(x):\n",
    "    if x=='<10'          :   return 0\n",
    "    if x=='10/49'        :   return 1 \n",
    "    if x=='100-500'      :   return 2 \n",
    "    if x=='1000-4999'    :   return 3 \n",
    "    if x=='10000+'       :   return 4 \n",
    "    if x=='50-99'        :   return 5 \n",
    "    if x=='500-999'      :   return 6 \n",
    "    if x=='5000-9999'    :   return 7\n",
    "    \n",
    "def last_job(x):\n",
    "    if x=='never'        :   return 0\n",
    "    if x=='1'            :   return 1 \n",
    "    if x=='2'            :   return 2 \n",
    "    if x=='3'            :   return 3 \n",
    "    if x=='4'            :   return 4 \n",
    "    if x=='>4'           :   return 5 \n",
    "    \n",
    "def city(x):\n",
    "    if x=='city_103'         : return  0\n",
    "    if x=='city_40'          : return  1\n",
    "    if x=='city_21'          : return  2\n",
    "    if x=='city_115'         : return  3\n",
    "    if x=='city_162'         : return  4\n",
    "    if x=='city_176'         : return  5\n",
    "    if x=='city_160'         : return  6\n",
    "    if x=='city_46'          : return  7\n",
    "    if x=='city_61'          : return  8\n",
    "    if x=='city_114'         : return  9\n",
    "    if x=='city_13'          : return  10\n",
    "    if x=='city_159'         : return  11\n",
    "    if x=='city_102'         : return  12\n",
    "    if x=='city_67'          : return  13\n",
    "    if x=='city_100'         : return  14\n",
    "    if x=='city_16'          : return  15\n",
    "    if x=='city_71'          : return  16\n",
    "    if x=='city_104'         : return  17\n",
    "    if x=='city_64'          : return  18\n",
    "    if x=='city_101'         : return  19\n",
    "    if x=='city_83'          : return  20\n",
    "    if x=='city_105'         : return  21\n",
    "    if x=='city_73'          : return  22\n",
    "    if x=='city_75'          : return  23\n",
    "    if x=='city_41'          : return  24\n",
    "    if x=='city_11'          : return  25\n",
    "    if x=='city_93'          : return  26\n",
    "    if x=='city_90'          : return  27\n",
    "    if x=='city_36'          : return  28\n",
    "    if x=='city_20'          : return  29\n",
    "    if x=='city_57'          : return  30\n",
    "    if x=='city_152'         : return  31\n",
    "    if x=='city_19'          : return  32\n",
    "    if x=='city_65'          : return  33\n",
    "    if x=='city_74'          : return  34\n",
    "    if x=='city_173'         : return  35\n",
    "    if x=='city_136'         : return  36\n",
    "    if x=='city_98'          : return  37\n",
    "    if x=='city_97'          : return  38\n",
    "    if x=='city_50'          : return  39\n",
    "    if x=='city_138'         : return  40\n",
    "    if x=='city_82'          : return  41\n",
    "    if x=='city_157'         : return  42\n",
    "    if x=='city_89'          : return  43\n",
    "    if x=='city_150'         : return  44\n",
    "    if x=='city_70'          : return  45\n",
    "    if x=='city_175'         : return  46\n",
    "    if x=='city_94'          : return  47\n",
    "    if x=='city_28'          : return  48\n",
    "    if x=='city_59'          : return  49\n",
    "    if x=='city_165'         : return  50\n",
    "    if x=='city_145'         : return  51\n",
    "    if x=='city_142'         : return  52\n",
    "    if x=='city_26'          : return  53\n",
    "    if x=='city_12'          : return  54\n",
    "    if x=='city_37'          : return  55\n",
    "    if x=='city_43'          : return  56\n",
    "    if x=='city_116'         : return  57\n",
    "    if x=='city_23'          : return  58\n",
    "    if x=='city_99'          : return  59\n",
    "    if x=='city_149'         : return  60\n",
    "    if x=='city_10'          : return  61\n",
    "    if x=='city_45'          : return  62\n",
    "    if x=='city_80'          : return  63\n",
    "    if x=='city_128'         : return  64\n",
    "    if x=='city_158'         : return  65\n",
    "    if x=='city_123'         : return  66\n",
    "    if x=='city_7'           : return  67\n",
    "    if x=='city_72'          : return  68\n",
    "    if x=='city_106'         : return  69\n",
    "    if x=='city_143'         : return  70\n",
    "    if x=='city_78'          : return  71\n",
    "    if x=='city_109'         : return  72\n",
    "    if x=='city_24'          : return  73\n",
    "    if x=='city_134'         : return  74\n",
    "    if x=='city_48'          : return  75\n",
    "    if x=='city_144'         : return  76\n",
    "    if x=='city_91'          : return  77\n",
    "    if x=='city_146'         : return  78\n",
    "    if x=='city_133'         : return  79\n",
    "    if x=='city_126'         : return  80\n",
    "    if x=='city_118'         : return  81\n",
    "    if x=='city_9'           : return  82\n",
    "    if x=='city_167'         : return  83\n",
    "    if x=='city_27'          : return  84\n",
    "    if x=='city_84'          : return  85\n",
    "    if x=='city_54'          : return  86\n",
    "    if x=='city_39'          : return  87\n",
    "    if x=='city_79'          : return  88\n",
    "    if x=='city_76'          : return  89\n",
    "    if x=='city_77'          : return  90\n",
    "    if x=='city_81'          : return  91\n",
    "    if x=='city_131'         : return  92\n",
    "    if x=='city_44'          : return  93\n",
    "    if x=='city_117'         : return  94\n",
    "    if x=='city_155'         : return  95\n",
    "    if x=='city_33'          : return  96\n",
    "    if x=='city_141'         : return  97\n",
    "    if x=='city_127'         : return  98\n",
    "    if x=='city_62'          : return  99\n",
    "    if x=='city_53'          : return  100\n",
    "    if x=='city_25'          : return  101\n",
    "    if x=='city_2'           : return  102\n",
    "    if x=='city_69'          : return  103\n",
    "    if x=='city_120'         : return  104\n",
    "    if x=='city_111'         : return  105\n",
    "    if x=='city_30'          : return  106\n",
    "    if x=='city_1'           : return  107\n",
    "    if x=='city_140'         : return  108\n",
    "    if x=='city_179'         : return  109\n",
    "    if x=='city_55'          : return  110\n",
    "    if x=='city_14'          : return  111\n",
    "    if x=='city_42'          : return  112\n",
    "    if x=='city_107'         : return  113\n",
    "    if x=='city_18'          : return  114\n",
    "    if x=='city_139'         : return  115\n",
    "    if x=='city_180'         : return  116\n",
    "    if x=='city_166'         : return  117\n",
    "    if x=='city_121'         : return  118\n",
    "    if x=='city_129'         : return  119\n",
    "    if x=='city_8'           : return  120\n",
    "    if x=='city_31'          : return  121\n",
    "    if x=='city_171'         : return  122"
   ]
  },
  {
   "cell_type": "code",
   "execution_count": null,
   "metadata": {
    "execution": {
     "iopub.execute_input": "2020-12-28T10:52:47.465411Z",
     "iopub.status.busy": "2020-12-28T10:52:47.464719Z",
     "iopub.status.idle": "2020-12-28T10:52:47.626397Z",
     "shell.execute_reply": "2020-12-28T10:52:47.625778Z"
    },
    "papermill": {
     "duration": 0.26786,
     "end_time": "2020-12-28T10:52:47.626500",
     "exception": false,
     "start_time": "2020-12-28T10:52:47.358640",
     "status": "completed"
    },
    "tags": []
   },
   "outputs": [],
   "source": [
    "train['gender'] = train['gender'].apply(gender_to_numeric)\n",
    "train['relevent_experience'] = train['relevent_experience'].apply(rel_experience)\n",
    "train['enrolled_university'] = train['enrolled_university'].apply(enrollment)\n",
    "train['education_level'] = train['education_level'].apply(edu_level)\n",
    "train['major_discipline'] = train['major_discipline'].apply(major)\n",
    "train['experience'] = train['experience'].apply(experience)\n",
    "train['company_type'] = train['company_type'].apply(company_t)\n",
    "train['company_size'] = train['company_size'].apply(company_s)\n",
    "train['last_new_job'] = train['last_new_job'].apply(last_job)\n",
    "train['city'] = train['city'].apply(city)\n",
    "\n",
    "train"
   ]
  },
  {
   "cell_type": "markdown",
   "metadata": {
    "papermill": {
     "duration": 0.108497,
     "end_time": "2020-12-28T10:52:47.831033",
     "exception": false,
     "start_time": "2020-12-28T10:52:47.722536",
     "status": "completed"
    },
    "tags": []
   },
   "source": [
    "## Check Missing Value"
   ]
  },
  {
   "cell_type": "code",
   "execution_count": null,
   "metadata": {
    "execution": {
     "iopub.execute_input": "2020-12-28T10:52:48.067795Z",
     "iopub.status.busy": "2020-12-28T10:52:48.066779Z",
     "iopub.status.idle": "2020-12-28T10:52:48.076730Z",
     "shell.execute_reply": "2020-12-28T10:52:48.077422Z"
    },
    "papermill": {
     "duration": 0.130922,
     "end_time": "2020-12-28T10:52:48.077587",
     "exception": false,
     "start_time": "2020-12-28T10:52:47.946665",
     "status": "completed"
    },
    "tags": []
   },
   "outputs": [],
   "source": [
    "print(\"Any missing sample in training set:\",train.isnull().values.any())\n"
   ]
  },
  {
   "cell_type": "markdown",
   "metadata": {
    "papermill": {
     "duration": 0.114056,
     "end_time": "2020-12-28T10:52:48.294102",
     "exception": false,
     "start_time": "2020-12-28T10:52:48.180046",
     "status": "completed"
    },
    "tags": []
   },
   "source": [
    "## Train : Replace nan values with average of columns\n"
   ]
  },
  {
   "cell_type": "code",
   "execution_count": null,
   "metadata": {
    "execution": {
     "iopub.execute_input": "2020-12-28T10:52:48.495582Z",
     "iopub.status.busy": "2020-12-28T10:52:48.494384Z",
     "iopub.status.idle": "2020-12-28T10:52:48.533200Z",
     "shell.execute_reply": "2020-12-28T10:52:48.533692Z"
    },
    "papermill": {
     "duration": 0.14198,
     "end_time": "2020-12-28T10:52:48.533881",
     "exception": false,
     "start_time": "2020-12-28T10:52:48.391901",
     "status": "completed"
    },
    "tags": []
   },
   "outputs": [],
   "source": [
    "train['gender'] = train['gender'].fillna((train['gender'].mean()))\n",
    "train['enrolled_university'] = train['enrolled_university'].fillna((train['enrolled_university'].mean()))\n",
    "train['major_discipline'] = train['major_discipline'].fillna((train['major_discipline'].mean()))\n",
    "train['company_size'] = train['company_size'].fillna((train['company_size'].mean()))\n",
    "train['company_type'] = train['company_type'].fillna((train['company_type'].mean()))\n",
    "train['company_type'] = train['company_type'].fillna((train['company_type'].mean()))\n",
    "\n",
    "train"
   ]
  },
  {
   "cell_type": "markdown",
   "metadata": {
    "papermill": {
     "duration": 0.098845,
     "end_time": "2020-12-28T10:52:48.736987",
     "exception": false,
     "start_time": "2020-12-28T10:52:48.638142",
     "status": "completed"
    },
    "tags": []
   },
   "source": [
    "# Testing Data"
   ]
  },
  {
   "cell_type": "code",
   "execution_count": null,
   "metadata": {
    "execution": {
     "iopub.execute_input": "2020-12-28T10:52:48.945287Z",
     "iopub.status.busy": "2020-12-28T10:52:48.944555Z",
     "iopub.status.idle": "2020-12-28T10:52:48.976500Z",
     "shell.execute_reply": "2020-12-28T10:52:48.975961Z"
    },
    "papermill": {
     "duration": 0.141256,
     "end_time": "2020-12-28T10:52:48.976603",
     "exception": false,
     "start_time": "2020-12-28T10:52:48.835347",
     "status": "completed"
    },
    "tags": []
   },
   "outputs": [],
   "source": [
    "test= pd.read_csv('./data/aug_test.csv')\n",
    "test.head()\n"
   ]
  },
  {
   "cell_type": "code",
   "execution_count": null,
   "metadata": {
    "execution": {
     "iopub.execute_input": "2020-12-28T10:52:49.216860Z",
     "iopub.status.busy": "2020-12-28T10:52:49.208614Z",
     "iopub.status.idle": "2020-12-28T10:52:49.235261Z",
     "shell.execute_reply": "2020-12-28T10:52:49.234645Z"
    },
    "papermill": {
     "duration": 0.16036,
     "end_time": "2020-12-28T10:52:49.235382",
     "exception": false,
     "start_time": "2020-12-28T10:52:49.075022",
     "status": "completed"
    },
    "tags": []
   },
   "outputs": [],
   "source": [
    "test['gender'] = test['gender'].apply(gender_to_numeric)\n",
    "test['relevent_experience'] = test['relevent_experience'].apply(rel_experience)\n",
    "test['enrolled_university'] = test['enrolled_university'].apply(enrollment)\n",
    "test['education_level'] = test['education_level'].apply(edu_level)\n",
    "test['major_discipline'] = test['major_discipline'].apply(major)\n",
    "test['experience'] = test['experience'].apply(experience)\n",
    "test['company_type'] = test['company_type'].apply(company_t)\n",
    "test['company_size'] = test['company_size'].apply(company_s)\n",
    "test['last_new_job'] = test['last_new_job'].apply(last_job)\n",
    "test['city'] = test['city'].apply(city)\n",
    "\n",
    "test"
   ]
  },
  {
   "cell_type": "code",
   "execution_count": null,
   "metadata": {
    "execution": {
     "iopub.execute_input": "2020-12-28T10:52:49.443261Z",
     "iopub.status.busy": "2020-12-28T10:52:49.442421Z",
     "iopub.status.idle": "2020-12-28T10:52:49.447860Z",
     "shell.execute_reply": "2020-12-28T10:52:49.447077Z"
    },
    "papermill": {
     "duration": 0.11302,
     "end_time": "2020-12-28T10:52:49.448014",
     "exception": false,
     "start_time": "2020-12-28T10:52:49.334994",
     "status": "completed"
    },
    "tags": []
   },
   "outputs": [],
   "source": [
    "print(\"Any missing sample in test set:\",test.isnull().values.any(), \"\\n\")"
   ]
  },
  {
   "cell_type": "markdown",
   "metadata": {
    "papermill": {
     "duration": 0.100844,
     "end_time": "2020-12-28T10:52:49.649913",
     "exception": false,
     "start_time": "2020-12-28T10:52:49.549069",
     "status": "completed"
    },
    "tags": []
   },
   "source": [
    "## Test : Replace nan values with average of columns"
   ]
  },
  {
   "cell_type": "code",
   "execution_count": null,
   "metadata": {
    "execution": {
     "iopub.execute_input": "2020-12-28T10:52:49.867652Z",
     "iopub.status.busy": "2020-12-28T10:52:49.866487Z",
     "iopub.status.idle": "2020-12-28T10:52:49.898042Z",
     "shell.execute_reply": "2020-12-28T10:52:49.897439Z"
    },
    "papermill": {
     "duration": 0.149901,
     "end_time": "2020-12-28T10:52:49.898143",
     "exception": false,
     "start_time": "2020-12-28T10:52:49.748242",
     "status": "completed"
    },
    "tags": []
   },
   "outputs": [],
   "source": [
    "\n",
    "test['gender'] = test['gender'].fillna((test['gender'].mean()))\n",
    "test['enrolled_university'] = test['enrolled_university'].fillna((test['enrolled_university'].mean()))\n",
    "test['major_discipline'] = test['major_discipline'].fillna((test['major_discipline'].mean()))\n",
    "test['company_size'] = test['company_size'].fillna((test['company_size'].mean()))\n",
    "test['company_type'] = test['company_type'].fillna((test['company_type'].mean()))\n",
    "test['company_type'] = test['company_type'].fillna((test['company_type'].mean()))\n",
    "\n",
    "test"
   ]
  },
  {
   "cell_type": "code",
   "execution_count": null,
   "metadata": {
    "execution": {
     "iopub.execute_input": "2020-12-28T10:52:50.095536Z",
     "iopub.status.busy": "2020-12-28T10:52:50.094521Z",
     "iopub.status.idle": "2020-12-28T10:52:50.100397Z",
     "shell.execute_reply": "2020-12-28T10:52:50.099841Z"
    },
    "papermill": {
     "duration": 0.104269,
     "end_time": "2020-12-28T10:52:50.100504",
     "exception": false,
     "start_time": "2020-12-28T10:52:49.996235",
     "status": "completed"
    },
    "tags": []
   },
   "outputs": [],
   "source": [
    "#Select feature column names and target variable we are going to use for training\n",
    "\n",
    "features =[\"enrollee_id\",\"city\",\"city_development_index\",\"gender\",\"relevent_experience\",\"enrolled_university\",\"education_level\",\"major_discipline\",\"experience\",\"company_size\",\"company_type\",\"last_new_job\",\"training_hours\"]\n",
    "target = 'target'"
   ]
  },
  {
   "cell_type": "code",
   "execution_count": null,
   "metadata": {
    "execution": {
     "iopub.execute_input": "2020-12-28T10:52:50.305095Z",
     "iopub.status.busy": "2020-12-28T10:52:50.303860Z",
     "iopub.status.idle": "2020-12-28T10:52:50.325267Z",
     "shell.execute_reply": "2020-12-28T10:52:50.325829Z"
    },
    "papermill": {
     "duration": 0.12686,
     "end_time": "2020-12-28T10:52:50.325971",
     "exception": false,
     "start_time": "2020-12-28T10:52:50.199111",
     "status": "completed"
    },
    "tags": []
   },
   "outputs": [],
   "source": [
    "#This is input which our classifier will use as an input.\n",
    "train[features].head(10)"
   ]
  },
  {
   "cell_type": "code",
   "execution_count": null,
   "metadata": {
    "execution": {
     "iopub.execute_input": "2020-12-28T10:52:50.537636Z",
     "iopub.status.busy": "2020-12-28T10:52:50.536966Z",
     "iopub.status.idle": "2020-12-28T10:52:50.539519Z",
     "shell.execute_reply": "2020-12-28T10:52:50.540013Z"
    },
    "papermill": {
     "duration": 0.113528,
     "end_time": "2020-12-28T10:52:50.540146",
     "exception": false,
     "start_time": "2020-12-28T10:52:50.426618",
     "status": "completed"
    },
    "tags": []
   },
   "outputs": [],
   "source": [
    "#Display first 10 target variables\n",
    "train[target].head(100).values"
   ]
  },
  {
   "cell_type": "markdown",
   "metadata": {
    "papermill": {
     "duration": 0.125384,
     "end_time": "2020-12-28T10:52:50.768501",
     "exception": false,
     "start_time": "2020-12-28T10:52:50.643117",
     "status": "completed"
    },
    "tags": []
   },
   "source": [
    "# Model\n",
    "\n",
    "Here I train a CatBoost model with a standard RMSE objective.\n",
    "\n",
    "CatBoost is an algorithm for gradient boosting on decision trees. It is developed by Yandex researchers and engineers, and is used for search, recommendation systems, personal assistant, self-driving cars, weather prediction and many other tasks at Yandex and in other companies, including CERN, Cloudflare, Careem taxi. It is in open-source and can be used by anyone.\n",
    "Reference : https://catboost.ai/"
   ]
  },
  {
   "cell_type": "code",
   "execution_count": null,
   "metadata": {
    "execution": {
     "iopub.execute_input": "2020-12-28T10:52:50.993418Z",
     "iopub.status.busy": "2020-12-28T10:52:50.992750Z",
     "iopub.status.idle": "2020-12-28T10:52:55.734328Z",
     "shell.execute_reply": "2020-12-28T10:52:55.733753Z"
    },
    "papermill": {
     "duration": 4.852533,
     "end_time": "2020-12-28T10:52:55.734441",
     "exception": false,
     "start_time": "2020-12-28T10:52:50.881908",
     "status": "completed"
    },
    "tags": [
     "outputPrepend"
    ]
   },
   "outputs": [],
   "source": [
    "from catboost import CatBoostRegressor, Pool\n",
    "from sklearn.metrics import r2_score, mean_squared_error\n",
    "\n",
    "# We define the model\n",
    "model = CatBoostRegressor(objective='RMSE')\n",
    "# We train model\n",
    "model.fit(train[features],train[target])"
   ]
  },
  {
   "cell_type": "markdown",
   "metadata": {
    "papermill": {
     "duration": 0.112051,
     "end_time": "2020-12-28T10:52:55.958432",
     "exception": false,
     "start_time": "2020-12-28T10:52:55.846381",
     "status": "completed"
    },
    "tags": []
   },
   "source": [
    "# Prediction"
   ]
  },
  {
   "cell_type": "code",
   "execution_count": null,
   "metadata": {
    "execution": {
     "iopub.execute_input": "2020-12-28T10:52:56.187699Z",
     "iopub.status.busy": "2020-12-28T10:52:56.187057Z",
     "iopub.status.idle": "2020-12-28T10:52:56.198598Z",
     "shell.execute_reply": "2020-12-28T10:52:56.199141Z"
    },
    "papermill": {
     "duration": 0.126405,
     "end_time": "2020-12-28T10:52:56.199263",
     "exception": false,
     "start_time": "2020-12-28T10:52:56.072858",
     "status": "completed"
    },
    "tags": []
   },
   "outputs": [],
   "source": [
    "#Make predictions using the features from the test data set\n",
    "predictions = model.predict(test[features])\n",
    "\n",
    "predictions"
   ]
  },
  {
   "cell_type": "markdown",
   "metadata": {
    "papermill": {
     "duration": 0.109372,
     "end_time": "2020-12-28T10:52:56.418100",
     "exception": false,
     "start_time": "2020-12-28T10:52:56.308728",
     "status": "completed"
    },
    "tags": []
   },
   "source": [
    "# Measure AUC\n",
    "\n",
    "\n",
    "The AUC is an estimate of the probability that a classifier will rank a randomly chosen positive instance higher than a randomly chosen negative instance. Reference : https://www.kdnuggets.com/2010/09/pub-is-auc-the-best-measure.html#:~:text=www.riceanalytics.com-,The%20area%20under%20the%20curve%20(AUC)%20that%20relates%20the%20hit,a%20randomly%20chosen%20negative%20instance."
   ]
  },
  {
   "cell_type": "code",
   "execution_count": null,
   "metadata": {
    "execution": {
     "iopub.execute_input": "2020-12-28T10:52:56.640018Z",
     "iopub.status.busy": "2020-12-28T10:52:56.639378Z",
     "iopub.status.idle": "2020-12-28T10:52:56.673676Z",
     "shell.execute_reply": "2020-12-28T10:52:56.673188Z"
    },
    "papermill": {
     "duration": 0.144925,
     "end_time": "2020-12-28T10:52:56.673884",
     "exception": false,
     "start_time": "2020-12-28T10:52:56.528959",
     "status": "completed"
    },
    "tags": []
   },
   "outputs": [],
   "source": [
    "from sklearn import metrics\n",
    "fpr, tpr, thresholds = metrics.roc_curve(train[target],  model.predict(train[features]))\n",
    "metrics.auc(fpr, tpr)"
   ]
  },
  {
   "cell_type": "code",
   "execution_count": null,
   "metadata": {
    "execution": {
     "iopub.execute_input": "2020-12-28T10:52:56.904058Z",
     "iopub.status.busy": "2020-12-28T10:52:56.903155Z",
     "iopub.status.idle": "2020-12-28T10:52:56.908097Z",
     "shell.execute_reply": "2020-12-28T10:52:56.907517Z"
    },
    "papermill": {
     "duration": 0.1248,
     "end_time": "2020-12-28T10:52:56.908193",
     "exception": false,
     "start_time": "2020-12-28T10:52:56.783393",
     "status": "completed"
    },
    "tags": []
   },
   "outputs": [],
   "source": [
    "#Create a  DataFrame\n",
    "submission = pd.DataFrame({'enrollee_id':test['enrollee_id'],'target':predictions})\n",
    "                        \n",
    "\n",
    "#Visualize the first 10 rows\n",
    "submission.head(10)"
   ]
  },
  {
   "cell_type": "code",
   "execution_count": null,
   "metadata": {
    "execution": {
     "iopub.execute_input": "2020-12-28T10:52:57.129617Z",
     "iopub.status.busy": "2020-12-28T10:52:57.128969Z",
     "iopub.status.idle": "2020-12-28T10:52:57.376422Z",
     "shell.execute_reply": "2020-12-28T10:52:57.375660Z"
    },
    "papermill": {
     "duration": 0.360356,
     "end_time": "2020-12-28T10:52:57.376552",
     "exception": false,
     "start_time": "2020-12-28T10:52:57.016196",
     "status": "completed"
    },
    "tags": []
   },
   "outputs": [],
   "source": [
    "#Convert DataFrame to a csv file that can be uploaded\n",
    "#This is saved in the same directory as your notebook\n",
    "filename = 'submission.csv'\n",
    "\n",
    "submission.to_csv(filename,index=False)\n",
    "\n",
    "print('Saved file: ' + filename)"
   ]
  },
  {
   "cell_type": "code",
   "execution_count": null,
   "metadata": {},
   "outputs": [],
   "source": []
  }
 ],
 "metadata": {
  "kernelspec": {
   "display_name": "Python 3",
   "language": "python",
   "name": "python3"
  },
  "language_info": {
   "codemirror_mode": {
    "name": "ipython",
    "version": 3
   },
   "file_extension": ".py",
   "mimetype": "text/x-python",
   "name": "python",
   "nbconvert_exporter": "python",
   "pygments_lexer": "ipython3",
   "version": "3.8.5-final"
  },
  "papermill": {
   "duration": 38.060337,
   "end_time": "2020-12-28T10:52:57.592900",
   "environment_variables": {},
   "exception": null,
   "input_path": "__notebook__.ipynb",
   "output_path": "__notebook__.ipynb",
   "parameters": {},
   "start_time": "2020-12-28T10:52:19.532563",
   "version": "2.1.0"
  }
 },
 "nbformat": 4,
 "nbformat_minor": 4
}